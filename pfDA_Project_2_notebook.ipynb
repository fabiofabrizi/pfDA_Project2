{
 "cells": [
  {
   "cell_type": "markdown",
   "id": "673caaf1",
   "metadata": {},
   "source": [
    "## Module: Programming for Data Analysis\n",
    "## Project 2: Investigation of the Wisconsin Breast Cancer dataset "
   ]
  },
  {
   "cell_type": "markdown",
   "id": "57a4fb75",
   "metadata": {},
   "source": [
    "## Contents\n",
    "\n",
    "1. [Problem Statement](#Problem-Statement)\n",
    "30. [References](#References)"
   ]
  },
  {
   "cell_type": "markdown",
   "id": "230761de",
   "metadata": {},
   "source": []
  },
  {
   "cell_type": "markdown",
   "id": "53380783",
   "metadata": {},
   "source": [
    "## Problem Statement"
   ]
  },
  {
   "cell_type": "markdown",
   "id": "80701714",
   "metadata": {},
   "source": [
    "This project will investigate the Wisconsin Breast Cancer dataset, through the following requirements:<br>\n",
    "\n",
    "- Undertake an analysis/review of the dataset and present an overview and background.\n",
    "- Provide a literature review on classifiers which have been applied to the dataset and compare their performance\n",
    "- Present a statistical analysis of the dataset\n",
    "- Using a range of machine learning algorithms, train a set of classifiers on the dataset (using \n",
    "    SKLearn etc.) and present classification performance results. \n",
    "- Detail the rationale for the parameter selections you made while training the classifiers.\n",
    "- Compare, contrast and critique your results with reference to the literature\n",
    "- Discuss and investigate how the dataset could be extended – using data synthesis of new tumour datapoints"
   ]
  },
  {
   "cell_type": "code",
   "execution_count": null,
   "id": "4d74fd8c",
   "metadata": {},
   "outputs": [],
   "source": []
  },
  {
   "cell_type": "code",
   "execution_count": null,
   "id": "35dd9b32",
   "metadata": {},
   "outputs": [],
   "source": []
  },
  {
   "cell_type": "code",
   "execution_count": null,
   "id": "38c5fd10",
   "metadata": {},
   "outputs": [],
   "source": []
  },
  {
   "cell_type": "code",
   "execution_count": null,
   "id": "4f4872f8",
   "metadata": {},
   "outputs": [],
   "source": []
  },
  {
   "cell_type": "code",
   "execution_count": null,
   "id": "fdc11aad",
   "metadata": {},
   "outputs": [],
   "source": []
  },
  {
   "cell_type": "markdown",
   "id": "fddff71a",
   "metadata": {},
   "source": [
    "## References"
   ]
  },
  {
   "cell_type": "markdown",
   "id": "e54c6b5c",
   "metadata": {},
   "source": []
  }
 ],
 "metadata": {
  "kernelspec": {
   "display_name": "Python 3 (ipykernel)",
   "language": "python",
   "name": "python3"
  },
  "language_info": {
   "codemirror_mode": {
    "name": "ipython",
    "version": 3
   },
   "file_extension": ".py",
   "mimetype": "text/x-python",
   "name": "python",
   "nbconvert_exporter": "python",
   "pygments_lexer": "ipython3",
   "version": "3.9.13"
  }
 },
 "nbformat": 4,
 "nbformat_minor": 5
}
